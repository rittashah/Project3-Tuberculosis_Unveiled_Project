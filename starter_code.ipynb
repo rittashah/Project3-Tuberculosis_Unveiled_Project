{
 "cells": [
  {
   "cell_type": "code",
   "execution_count": 1,
   "id": "718e76bd",
   "metadata": {},
   "outputs": [],
   "source": [
    "#importing libraries\n",
    "import pandas as pd\n",
    "import numpy as np"
   ]
  },
  {
   "cell_type": "code",
   "execution_count": 2,
   "id": "b888e571",
   "metadata": {},
   "outputs": [],
   "source": [
    "# Read the databases from resources folder\n",
    "health_factors=pd.read_csv(\"../resources/Health_Risk_factors.csv\")\n",
    "sustainability=pd.read_csv(\"../resources/sustainability.csv\")"
   ]
  },
  {
   "cell_type": "code",
   "execution_count": 3,
   "id": "7bf3514a",
   "metadata": {},
   "outputs": [
    {
     "data": {
      "text/plain": [
       "Index(['Country',\n",
       "       'People using  safely managed drinking water services  % of population 2017',\n",
       "       'People using  safely managed sanitation services  % of population 2017',\n",
       "       'Access to electricity  % of population 2017',\n",
       "       'Renewable energy consumption  % of total final energy consumption 2015',\n",
       "       'Expenditures for R&D  % of GDP 2015',\n",
       "       'Urban population living in slums  % of urban population 2014',\n",
       "       'Ambient PM2.5 air pollution mean annual exposure micrograms per cubic meter 2016',\n",
       "       'Adjusted net savings  % of GNI 2017',\n",
       "       'Carbon dioxide emissions per capita metric tons 2014',\n",
       "       'Nationally protected terrestrial and marine areas  % of total territorial area 2018',\n",
       "       'Intentional homicides Combined source estimates per 100,000 people 2015',\n",
       "       'Internet use Individuals using the Internet % of population 2017'],\n",
       "      dtype='object')"
      ]
     },
     "execution_count": 3,
     "metadata": {},
     "output_type": "execute_result"
    }
   ],
   "source": [
    "#check the columns name \n",
    "sustainability.columns"
   ]
  },
  {
   "cell_type": "code",
   "execution_count": 4,
   "id": "5ca0f29a",
   "metadata": {},
   "outputs": [],
   "source": [
    "# Renaming columns in the sustainability DataFrame to more descriptive names\n",
    "sustainability=sustainability.rename(columns={\n",
    "    \"People using  safely managed drinking water services  % of population 2017\":\"safe_water\",\n",
    "    \"People using  safely managed sanitation services  % of population 2017\":\"sanitation_service\",\n",
    "    \"Ambient PM2.5 air pollution mean annual exposure micrograms per cubic meter 2016\":\"air_pollution\",\n",
    "    \"Urban population living in slums  % of urban population 2014\":\"slum_population\",\n",
    "    \"Carbon dioxide emissions per capita metric tons 2014\":\"co2_emissions\"\n",
    "   \n",
    "})\n",
    "\n",
    "# Creating a new DataFrame (sustain_df) with selected columns from the DataFrame\n",
    "sustain_df = sustainability[[\n",
    "    \"Country\",\n",
    "    \"safe_water\", \n",
    "    \"sanitation_service\", \n",
    "    \"air_pollution\", \n",
    "    \"slum_population\", \n",
    "    \"co2_emissions\"]]\n",
    "# Setting the \"Country\" column as the index of sustain_df\n",
    "sustain_df = sustain_df.set_index(\"Country\")"
   ]
  },
  {
   "cell_type": "code",
   "execution_count": 5,
   "id": "213deca0",
   "metadata": {},
   "outputs": [
    {
     "data": {
      "text/html": [
       "<div>\n",
       "<style scoped>\n",
       "    .dataframe tbody tr th:only-of-type {\n",
       "        vertical-align: middle;\n",
       "    }\n",
       "\n",
       "    .dataframe tbody tr th {\n",
       "        vertical-align: top;\n",
       "    }\n",
       "\n",
       "    .dataframe thead th {\n",
       "        text-align: right;\n",
       "    }\n",
       "</style>\n",
       "<table border=\"1\" class=\"dataframe\">\n",
       "  <thead>\n",
       "    <tr style=\"text-align: right;\">\n",
       "      <th></th>\n",
       "      <th>safe_water</th>\n",
       "      <th>sanitation_service</th>\n",
       "      <th>air_pollution</th>\n",
       "      <th>slum_population</th>\n",
       "      <th>co2_emissions</th>\n",
       "    </tr>\n",
       "    <tr>\n",
       "      <th>Country</th>\n",
       "      <th></th>\n",
       "      <th></th>\n",
       "      <th></th>\n",
       "      <th></th>\n",
       "      <th></th>\n",
       "    </tr>\n",
       "  </thead>\n",
       "  <tbody>\n",
       "    <tr>\n",
       "      <th>Afghanistan</th>\n",
       "      <td>NaN</td>\n",
       "      <td>NaN</td>\n",
       "      <td>56.3</td>\n",
       "      <td>62.7</td>\n",
       "      <td>0.3</td>\n",
       "    </tr>\n",
       "    <tr>\n",
       "      <th>Albania</th>\n",
       "      <td>70.0</td>\n",
       "      <td>39.9</td>\n",
       "      <td>18.2</td>\n",
       "      <td>NaN</td>\n",
       "      <td>2.0</td>\n",
       "    </tr>\n",
       "    <tr>\n",
       "      <th>Algeria</th>\n",
       "      <td>NaN</td>\n",
       "      <td>17.7</td>\n",
       "      <td>39.9</td>\n",
       "      <td>NaN</td>\n",
       "      <td>3.7</td>\n",
       "    </tr>\n",
       "    <tr>\n",
       "      <th>American Samoa</th>\n",
       "      <td>12.6</td>\n",
       "      <td>NaN</td>\n",
       "      <td>12.4</td>\n",
       "      <td>NaN</td>\n",
       "      <td>NaN</td>\n",
       "    </tr>\n",
       "    <tr>\n",
       "      <th>Andorra</th>\n",
       "      <td>90.6</td>\n",
       "      <td>100.0</td>\n",
       "      <td>10.3</td>\n",
       "      <td>NaN</td>\n",
       "      <td>5.8</td>\n",
       "    </tr>\n",
       "  </tbody>\n",
       "</table>\n",
       "</div>"
      ],
      "text/plain": [
       "                safe_water  sanitation_service  air_pollution   \n",
       "Country                                                         \n",
       "Afghanistan            NaN                 NaN           56.3  \\\n",
       "Albania               70.0                39.9           18.2   \n",
       "Algeria                NaN                17.7           39.9   \n",
       "American Samoa        12.6                 NaN           12.4   \n",
       "Andorra               90.6               100.0           10.3   \n",
       "\n",
       "                slum_population  co2_emissions  \n",
       "Country                                         \n",
       "Afghanistan                62.7            0.3  \n",
       "Albania                     NaN            2.0  \n",
       "Algeria                     NaN            3.7  \n",
       "American Samoa              NaN            NaN  \n",
       "Andorra                     NaN            5.8  "
      ]
     },
     "execution_count": 5,
     "metadata": {},
     "output_type": "execute_result"
    }
   ],
   "source": [
    "sustain_df.head()"
   ]
  },
  {
   "cell_type": "code",
   "execution_count": 6,
   "id": "c5b8009a",
   "metadata": {},
   "outputs": [
    {
     "data": {
      "text/plain": [
       "Index(['Country', 'Prevalence of smoking Male % of adults 2016',\n",
       "       'Prevalence of smoking female % of adults 2016',\n",
       "       'Incidence of tuberculosis  per 100,000 people 2018',\n",
       "       'Prevalence of diabetes  % of population ages 20 to 79 2019',\n",
       "       'Incidence of HIV Total per 1,000 uninfected population ages 15-49 2018',\n",
       "       'Prevalence of HIV Total % of population ages 15-49 2018',\n",
       "       'Prevalence of HIV Women's share of population ages 15+ living with HIV % 2018',\n",
       "       'Prevalence of HIV Youth, Male % of population ages 15-24 2018',\n",
       "       'Prevalence of HIV Youth, Female % of population ages 15-24 2018',\n",
       "       'Antiretroviral therapy coverage  % of people living with HIV 2018',\n",
       "       'Cause of death Communicable diseases and maternal, prenatal, and nutrition conditions % of population 2016',\n",
       "       'Cause of death Non-communicable diseases % of population 2016',\n",
       "       'Cause of death Injuries % of population 2016'],\n",
       "      dtype='object')"
      ]
     },
     "execution_count": 6,
     "metadata": {},
     "output_type": "execute_result"
    }
   ],
   "source": [
    "health_factors.columns"
   ]
  },
  {
   "cell_type": "code",
   "execution_count": 7,
   "id": "e0680b68",
   "metadata": {},
   "outputs": [],
   "source": [
    "# Renaming columns in the health_factors DataFrame to more descriptive names\n",
    "health_factor = health_factors.rename(columns={\n",
    "    \"Prevalence of smoking Male % of adults 2016\": \"smoking_male\",\n",
    "    \"Prevalence of smoking female % of adults 2016\": \"smoking_female\",\n",
    "    \"Incidence of tuberculosis  per 100,000 people 2018\": \"tuberculosis\",\n",
    "    \"Prevalence of HIV Total % of population ages 15-49 2018\": \"HIV_total\",\n",
    "    \"Prevalence of HIV Women's share of population ages 15+ living with HIV % 2018\": \"HIV_female\",\n",
    "    \"Prevalence of HIV Youth, Male % of population ages 15-24 2018\": \"HIV_youth_male\",\n",
    "    \"Prevalence of HIV Youth, Female % of population ages 15-24 2018\": \"HIV_youth_female\",\n",
    "    \"Antiretroviral therapy coverage  % of people living with HIV 2018\": \"HIV_therapy\",\n",
    "    \"Prevalence of diabetes  % of population ages 20 to 79 2019\": \"diabetes\"\n",
    "})\n",
    "\n",
    "# Calculating the percentage of males with HIV based on the percentage of females with HIV\n",
    "# If the percentage of females with HIV is missing (NaN), the corresponding value for males is also set to NaN\n",
    "health_factor[\"HIV_male\"] = np.where(\n",
    "    pd.isnull(health_factor[\"HIV_female\"]),\n",
    "    np.nan,\n",
    "    100 - health_factor[\"HIV_female\"]\n",
    ")\n"
   ]
  },
  {
   "cell_type": "code",
   "execution_count": 8,
   "id": "8d2b51cb",
   "metadata": {},
   "outputs": [
    {
     "name": "stdout",
     "output_type": "stream",
     "text": [
      "Index(['Country', 'smoking_male', 'smoking_female', 'tuberculosis',\n",
      "       'HIV_total', 'HIV_male', 'HIV_female', 'HIV_youth_male',\n",
      "       'HIV_youth_female', 'HIV_therapy', 'diabetes'],\n",
      "      dtype='object')\n"
     ]
    }
   ],
   "source": [
    "# Creating a new DataFrame with selected columns from the health_factor DataFrame\n",
    "health_df = health_factor[[\n",
    "    \"Country\",\n",
    "    \"smoking_male\",\n",
    "    \"smoking_female\",\n",
    "    \"tuberculosis\",\n",
    "    \"HIV_total\",\n",
    "    \"HIV_male\",\n",
    "    \"HIV_female\",\n",
    "    \"HIV_youth_male\",\n",
    "    \"HIV_youth_female\",\n",
    "    \"HIV_therapy\",\n",
    "    \"diabetes\"\n",
    "]]\n",
    "\n",
    "print(health_df.columns)  # Print the column names of the DataFrame\n",
    "\n",
    "#health_df = health_df.set_index(\"Country\")"
   ]
  },
  {
   "cell_type": "code",
   "execution_count": 9,
   "id": "364cda5b",
   "metadata": {},
   "outputs": [
    {
     "data": {
      "text/html": [
       "<div>\n",
       "<style scoped>\n",
       "    .dataframe tbody tr th:only-of-type {\n",
       "        vertical-align: middle;\n",
       "    }\n",
       "\n",
       "    .dataframe tbody tr th {\n",
       "        vertical-align: top;\n",
       "    }\n",
       "\n",
       "    .dataframe thead th {\n",
       "        text-align: right;\n",
       "    }\n",
       "</style>\n",
       "<table border=\"1\" class=\"dataframe\">\n",
       "  <thead>\n",
       "    <tr style=\"text-align: right;\">\n",
       "      <th></th>\n",
       "      <th>Country</th>\n",
       "      <th>smoking_male</th>\n",
       "      <th>smoking_female</th>\n",
       "      <th>tuberculosis</th>\n",
       "      <th>HIV_total</th>\n",
       "      <th>HIV_male</th>\n",
       "      <th>HIV_female</th>\n",
       "      <th>HIV_youth_male</th>\n",
       "      <th>HIV_youth_female</th>\n",
       "      <th>HIV_therapy</th>\n",
       "      <th>diabetes</th>\n",
       "    </tr>\n",
       "  </thead>\n",
       "  <tbody>\n",
       "    <tr>\n",
       "      <th>0</th>\n",
       "      <td>Afghanistan</td>\n",
       "      <td>NaN</td>\n",
       "      <td>NaN</td>\n",
       "      <td>189.0</td>\n",
       "      <td>0.1</td>\n",
       "      <td>71.0</td>\n",
       "      <td>29.0</td>\n",
       "      <td>0.1</td>\n",
       "      <td>0.1</td>\n",
       "      <td>13.0</td>\n",
       "      <td>9.2</td>\n",
       "    </tr>\n",
       "    <tr>\n",
       "      <th>1</th>\n",
       "      <td>Albania</td>\n",
       "      <td>51.0</td>\n",
       "      <td>7.0</td>\n",
       "      <td>18.0</td>\n",
       "      <td>NaN</td>\n",
       "      <td>NaN</td>\n",
       "      <td>NaN</td>\n",
       "      <td>NaN</td>\n",
       "      <td>NaN</td>\n",
       "      <td>NaN</td>\n",
       "      <td>9.0</td>\n",
       "    </tr>\n",
       "    <tr>\n",
       "      <th>2</th>\n",
       "      <td>Algeria</td>\n",
       "      <td>30.0</td>\n",
       "      <td>1.0</td>\n",
       "      <td>69.0</td>\n",
       "      <td>0.1</td>\n",
       "      <td>54.0</td>\n",
       "      <td>46.0</td>\n",
       "      <td>0.1</td>\n",
       "      <td>0.1</td>\n",
       "      <td>81.0</td>\n",
       "      <td>6.7</td>\n",
       "    </tr>\n",
       "    <tr>\n",
       "      <th>3</th>\n",
       "      <td>American Samoa</td>\n",
       "      <td>NaN</td>\n",
       "      <td>NaN</td>\n",
       "      <td>0.0</td>\n",
       "      <td>NaN</td>\n",
       "      <td>NaN</td>\n",
       "      <td>NaN</td>\n",
       "      <td>NaN</td>\n",
       "      <td>NaN</td>\n",
       "      <td>NaN</td>\n",
       "      <td>NaN</td>\n",
       "    </tr>\n",
       "    <tr>\n",
       "      <th>4</th>\n",
       "      <td>Andorra</td>\n",
       "      <td>38.0</td>\n",
       "      <td>29.0</td>\n",
       "      <td>3.0</td>\n",
       "      <td>NaN</td>\n",
       "      <td>NaN</td>\n",
       "      <td>NaN</td>\n",
       "      <td>NaN</td>\n",
       "      <td>NaN</td>\n",
       "      <td>NaN</td>\n",
       "      <td>7.7</td>\n",
       "    </tr>\n",
       "  </tbody>\n",
       "</table>\n",
       "</div>"
      ],
      "text/plain": [
       "          Country  smoking_male  smoking_female  tuberculosis  HIV_total   \n",
       "0     Afghanistan           NaN             NaN         189.0        0.1  \\\n",
       "1         Albania          51.0             7.0          18.0        NaN   \n",
       "2         Algeria          30.0             1.0          69.0        0.1   \n",
       "3  American Samoa           NaN             NaN           0.0        NaN   \n",
       "4         Andorra          38.0            29.0           3.0        NaN   \n",
       "\n",
       "   HIV_male  HIV_female  HIV_youth_male  HIV_youth_female  HIV_therapy   \n",
       "0      71.0        29.0             0.1               0.1         13.0  \\\n",
       "1       NaN         NaN             NaN               NaN          NaN   \n",
       "2      54.0        46.0             0.1               0.1         81.0   \n",
       "3       NaN         NaN             NaN               NaN          NaN   \n",
       "4       NaN         NaN             NaN               NaN          NaN   \n",
       "\n",
       "   diabetes  \n",
       "0       9.2  \n",
       "1       9.0  \n",
       "2       6.7  \n",
       "3       NaN  \n",
       "4       7.7  "
      ]
     },
     "execution_count": 9,
     "metadata": {},
     "output_type": "execute_result"
    }
   ],
   "source": [
    "health_df.head()"
   ]
  },
  {
   "cell_type": "code",
   "execution_count": 24,
   "id": "68b704db",
   "metadata": {},
   "outputs": [],
   "source": [
    "#merge the DataFrames on Country\n",
    "merged_df = sustain_df.merge(health_df, on=\"Country\")\n",
    "merged_df['Country'].replace('Korea, Dem. Peopleâ€™s Rep.', 'Korea, Dem', inplace=True)"
   ]
  },
  {
   "cell_type": "code",
   "execution_count": 25,
   "id": "49c661db",
   "metadata": {},
   "outputs": [
    {
     "name": "stdout",
     "output_type": "stream",
     "text": [
      "<class 'pandas.core.frame.DataFrame'>\n",
      "RangeIndex: 214 entries, 0 to 213\n",
      "Data columns (total 16 columns):\n",
      " #   Column              Non-Null Count  Dtype  \n",
      "---  ------              --------------  -----  \n",
      " 0   Country             214 non-null    object \n",
      " 1   safe_water          108 non-null    float64\n",
      " 2   sanitation_service  94 non-null     float64\n",
      " 3   air_pollution       194 non-null    float64\n",
      " 4   slum_population     83 non-null     float64\n",
      " 5   co2_emissions       203 non-null    float64\n",
      " 6   smoking_male        143 non-null    float64\n",
      " 7   smoking_female      145 non-null    float64\n",
      " 8   tuberculosis        207 non-null    float64\n",
      " 9   HIV_total           141 non-null    float64\n",
      " 10  HIV_male            139 non-null    float64\n",
      " 11  HIV_female          139 non-null    float64\n",
      " 12  HIV_youth_male      137 non-null    float64\n",
      " 13  HIV_youth_female    137 non-null    float64\n",
      " 14  HIV_therapy         139 non-null    float64\n",
      " 15  diabetes            208 non-null    float64\n",
      "dtypes: float64(15), object(1)\n",
      "memory usage: 26.9+ KB\n"
     ]
    }
   ],
   "source": [
    "merged_df.info()"
   ]
  },
  {
   "cell_type": "code",
   "execution_count": 26,
   "id": "ad0a93cb",
   "metadata": {},
   "outputs": [],
   "source": [
    "#save the DataFrame as a csv file in the resources folder\n",
    "merged_df.to_csv(\"../resources/merged_data.csv\", index=False)"
   ]
  },
  {
   "cell_type": "code",
   "execution_count": 27,
   "id": "f720acf3",
   "metadata": {},
   "outputs": [
    {
     "data": {
      "text/plain": [
       "Index(['Country', 'safe_water', 'sanitation_service', 'air_pollution',\n",
       "       'slum_population', 'co2_emissions', 'smoking_male', 'smoking_female',\n",
       "       'tuberculosis', 'HIV_total', 'HIV_male', 'HIV_female', 'HIV_youth_male',\n",
       "       'HIV_youth_female', 'HIV_therapy', 'diabetes'],\n",
       "      dtype='object')"
      ]
     },
     "execution_count": 27,
     "metadata": {},
     "output_type": "execute_result"
    }
   ],
   "source": [
    "merged_df.columns"
   ]
  },
  {
   "cell_type": "code",
   "execution_count": 35,
   "id": "7a73a566",
   "metadata": {},
   "outputs": [],
   "source": [
    "df1=merged_df[['Country','smoking_male', 'smoking_female', 'HIV_male', 'HIV_female', 'HIV_youth_male',\n",
    "       'HIV_youth_female', 'HIV_therapy']]\n",
    "df1 = df1.replace('', np.nan)  # Replace empty values with NaN\n",
    "df1 = df1.dropna()  # Drop rows with any missing values\n",
    "df1.to_csv(\"../resources/chartdasta.csv\",  sep=',', quotechar='\"', index=False)"
   ]
  },
  {
   "cell_type": "code",
   "execution_count": 36,
   "id": "04425885",
   "metadata": {},
   "outputs": [],
   "source": [
    "df2=merged_df[['Country','tuberculosis','diabetes', 'HIV_total']]\n",
    "df2 = df2.replace('', np.nan)  # Replace empty values with NaN\n",
    "df2 = df2.dropna()  # Drop rows with any missing values\n",
    "df2.to_csv(\"../resources/deseasedata.csv\",  sep=',', quotechar='\"', index=False)"
   ]
  },
  {
   "cell_type": "code",
   "execution_count": 37,
   "id": "4123fb74",
   "metadata": {},
   "outputs": [],
   "source": [
    "df3=merged_df[['Country','safe_water', 'sanitation_service', 'air_pollution', 'co2_emissions']]\n",
    "df3 = df3.replace('', np.nan)  # Replace empty values with NaN\n",
    "df3 = df3.dropna()  # Drop rows with any missing values\n",
    "df3.to_csv(\"../resources/mapdata.csv\",  sep=',', quotechar='\"', index=False)"
   ]
  },
  {
   "cell_type": "code",
   "execution_count": null,
   "id": "ee73acdb",
   "metadata": {},
   "outputs": [],
   "source": []
  },
  {
   "cell_type": "code",
   "execution_count": null,
   "id": "a420b8d2",
   "metadata": {},
   "outputs": [],
   "source": []
  }
 ],
 "metadata": {
  "kernelspec": {
   "display_name": "Python 3 (ipykernel)",
   "language": "python",
   "name": "python3"
  },
  "language_info": {
   "codemirror_mode": {
    "name": "ipython",
    "version": 3
   },
   "file_extension": ".py",
   "mimetype": "text/x-python",
   "name": "python",
   "nbconvert_exporter": "python",
   "pygments_lexer": "ipython3",
   "version": "3.10.9"
  }
 },
 "nbformat": 4,
 "nbformat_minor": 5
}
